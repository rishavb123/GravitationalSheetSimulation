{
  "nbformat": 4,
  "nbformat_minor": 0,
  "metadata": {
    "kernelspec": {
      "display_name": "Python 3",
      "language": "python",
      "name": "python3"
    },
    "language_info": {
      "codemirror_mode": {
        "name": "ipython",
        "version": 3
      },
      "file_extension": ".py",
      "mimetype": "text/x-python",
      "name": "python",
      "nbconvert_exporter": "python",
      "pygments_lexer": "ipython3",
      "version": "3.7.3"
    },
    "colab": {
      "name": "Gravitational Sheet.ipynb",
      "provenance": []
    }
  },
  "cells": [
    {
      "cell_type": "markdown",
      "metadata": {
        "id": "oAmUT7enaf-U",
        "colab_type": "text"
      },
      "source": [
        "## Gravitional Pull of a Uniform Sheet\n",
        "A uniform rectangular sheet of length $L$ and width $W$ is floating motionless in space.\n",
        "![](sheet.png)\n",
        "The sheet has negligible thickness and has a mass $M$. Consider a point mass a distance $z$ from the center of the sheet with mass $m$."
      ]
    },
    {
      "cell_type": "markdown",
      "metadata": {
        "id": "oJSn07qIaf-X",
        "colab_type": "text"
      },
      "source": [
        "The gravitional force on the mass in the $x$ and $y$ directions will cancel out since there is the same amount of mass on both sides. The only component that matters is the one along the $z$-axis. So,\n",
        "$$F_z = \\int dF_z = Gm\\int \\frac{dM}{r^2}\\cos\\theta$$\n",
        "$$= Gm\\int\\frac{\\sigma dA}{r^2}\\frac{z}{r} = Gm\\sigma z\\int_{-W/2}^{W/2}\\int_{-L/2}^{L/2} \\frac{1}{(x^2 + y^2 + z^2)^{3/2}} dx\\;dy$$\n",
        "and $\\vec{F} = F_z \\hat{k}$ since there is only a $z$ component. So,\n",
        "$$\\vec{F} = \\big(Gm\\sigma z\\int_{-W/2}^{W/2}\\int_{-L/2}^{L/2} \\frac{1}{(x^2 + y^2 + z^2)^{3/2}} dx\\;dy\\big)\\hat{k}$$"
      ]
    },
    {
      "cell_type": "markdown",
      "metadata": {
        "id": "Cz3n2gpbaf-Y",
        "colab_type": "text"
      },
      "source": [
        "Now, to calculate this."
      ]
    },
    {
      "cell_type": "code",
      "metadata": {
        "id": "oL0dPCGnaf-a",
        "colab_type": "code",
        "colab": {}
      },
      "source": [
        "# imports\n",
        "import numpy as np\n",
        "import pylab\n",
        "\n",
        "# define constants\n",
        "\n",
        "G = 6.674e-11 # m^3kg^-1s^-2\n",
        "\n",
        "def f(x, y, z):\n",
        "    return 1/(x**2 + y**2 + z**2) ** 1.5\n",
        "\n",
        "# define parameters\n",
        "\n",
        "L = 10 # m\n",
        "W = 10 # m\n",
        "z = 10 # m\n",
        "M = 10000 # kg\n",
        "A = L * W # m^2\n",
        "sigma = M / A # kg / m^2\n",
        "ax = -L / 2 # m\n",
        "bx = L / 2 # m\n",
        "ay = -W / 2 # m\n",
        "by = W / 2 # m"
      ],
      "execution_count": 0,
      "outputs": []
    },
    {
      "cell_type": "code",
      "metadata": {
        "id": "XoJgW4ZGaf-j",
        "colab_type": "code",
        "colab": {}
      },
      "source": [
        "# define some functions\n",
        "\n",
        "# interpolating polynomial\n",
        "def phi(k, x, samples):\n",
        "    N = len(samples)\n",
        "    return np.prod([1 if m == k else (x - samples[m]) / (samples[k] - samples[m]) for m in range(N)])\n",
        "\n",
        "# def Phi(f, x, samples):\n",
        "#     N = len(samples)\n",
        "#     return sum([f(samples[k]) * phi(k, x) for k in range(N)])\n",
        "\n",
        "def simpsons(f, a, b, N=10):\n",
        "    h = (b - a) / N\n",
        "    return 1/3 * h * (f(a) + f(b) + 4 * sum([f(a + (2*k - 1) * h) for k in range(1, int(N/2) + 1)]) + 2 * sum([f(a + 2 * k * h) for k in range(1, int(N/2))]))\n",
        "\n",
        "def weights(a, b, samples):\n",
        "    N = len(samples)\n",
        "    return [simpsons(lambda x: phi(k, x, samples), a, b) for k in range(N)]\n"
      ],
      "execution_count": 0,
      "outputs": []
    },
    {
      "cell_type": "markdown",
      "metadata": {
        "id": "XdAKF_vUaf-l",
        "colab_type": "text"
      },
      "source": [
        "Now, everything to take the integral using Monto Carlo integration (random sample points) is setup. So, this is what we will do."
      ]
    },
    {
      "cell_type": "code",
      "metadata": {
        "id": "ohSWeCAmaf-m",
        "colab_type": "code",
        "colab": {}
      },
      "source": [
        "def create_sample(N, a, b):\n",
        "    while True:\n",
        "        arr = [np.random.random() * (b - a) + a for _ in range(N)]\n",
        "        unique = True\n",
        "        for i in range(len(arr)):\n",
        "            for j in range(len(arr)):\n",
        "                if i != j and np.abs(arr[i] - arr[j]) < 0.0001:\n",
        "                    unique = False\n",
        "        if unique:\n",
        "            return arr\n",
        "\n",
        "def create_2d_sample(N, ax, bx, ay, by):\n",
        "    return [create_sample(N, ax, ay), create_sample(N, ay, ay)]\n",
        "\n",
        "def create_2d_weights(two_sample, ax, bx, ay, by):\n",
        "    return [weights(ax, bx, two_sample[0]), weights(ay, by, two_sample[1])]\n",
        "\n",
        "def monte_carlo_2d(f, two_sample, weights):\n",
        "    return sum([sum([weights[0][i] * weights[1][j] * f(two_sample[0][i], two_sample[1][j]) for j in range(N)]) for i in range(N)])\n",
        "\n",
        "def f2(x, y):\n",
        "    return x + y\n",
        "\n",
        "# two_sample = create_2d_sample(10, 0, 1, 0, 2);\n",
        "# two_weights = create_2d_weights(two_sample, 0, 1, 0, 2)\n",
        "# monte_carlo_2d(f2, two_sample, two_weights)"
      ],
      "execution_count": 0,
      "outputs": []
    },
    {
      "cell_type": "markdown",
      "metadata": {
        "id": "5Hz9kNtvaf-o",
        "colab_type": "text"
      },
      "source": [
        "This is where I'm giving up on monte carlo integration and just using simpson's rule."
      ]
    },
    {
      "cell_type": "code",
      "metadata": {
        "id": "wMIwgiVlaf-p",
        "colab_type": "code",
        "colab": {}
      },
      "source": [
        "def double_simpsons(f, a, b, c, d, N = 10):\n",
        "    def F(y):\n",
        "        return simpsons(lambda x: f(x, y), a, b, N)\n",
        "    return simpsons(F, c, d, N)\n",
        "\n",
        "# double_simpsons(lambda x, y: 1, 0, 5, 0, 5, N=100)"
      ],
      "execution_count": 0,
      "outputs": []
    },
    {
      "cell_type": "code",
      "metadata": {
        "id": "05RDeksOaf-y",
        "colab_type": "code",
        "colab": {
          "base_uri": "https://localhost:8080/",
          "height": 265
        },
        "outputId": "b0ed185b-e402-4662-cf64-b05c1ecfbcdd"
      },
      "source": [
        "def force(z):\n",
        "    return double_simpsons(lambda x, y: f(x, y, z), ax, bx, ay, by, N=100)\n",
        "\n",
        "force(z)\n",
        "\n",
        "xs = np.linspace(0.1, 10, 100)\n",
        "ys = [force(x_s) for x_s in xs]\n",
        "pylab.plot(xs, ys)\n",
        "pylab.show()"
      ],
      "execution_count": 7,
      "outputs": [
        {
          "output_type": "display_data",
          "data": {
            "image/png": "[encoded data removed]",
            "text/plain": [
              "<Figure size 432x288 with 1 Axes>"
            ]
          },
          "metadata": {
            "tags": []
          }
        }
      ]
    }
  ]
}